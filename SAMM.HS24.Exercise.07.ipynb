{
 "cells": [
  {
   "cell_type": "markdown",
   "metadata": {},
   "source": [
    "# Exercise 7: Sensitivity and Parameter Identification"
   ]
  },
  {
   "cell_type": "markdown",
   "metadata": {},
   "source": [
    "Libraries"
   ]
  },
  {
   "cell_type": "code",
   "execution_count": 1,
   "metadata": {},
   "outputs": [
    {
     "name": "stdout",
     "output_type": "stream",
     "text": [
      "Note: you may need to restart the kernel to use updated packages.\n"
     ]
    }
   ],
   "source": [
    "%pip install -q matplotlib numpy odeintw pandas requests sammhelper scipy tqdm\n",
    "import matplotlib.pyplot as plt\n",
    "import numpy as np\n",
    "import pandas as pd\n",
    "import sammhelper as sh\n",
    "import scipy as sp"
   ]
  },
  {
   "cell_type": "markdown",
   "metadata": {},
   "source": [
    "## Part I: Experiment in a batch reactor"
   ]
  },
  {
   "cell_type": "markdown",
   "metadata": {},
   "source": [
    "You perform an experiment in a batch reactor. Compound A is degraded in a first order reaction\n",
    "and you measure the concentrations indicated in Table 1 below.\n",
    "\n",
    "<center><strong>Table 1:</strong> Measured concentration of compound A in the batch reactor (also provided in the file <em>Ex07.Data.txt</em>).</center>\n",
    "\n",
    "| Time [min]  | $\\bm{C_A}$ [g/m$\\bm{^3}$] |\n",
    "|:-----------:|:-------------------------:|\n",
    "|           1 |                       137 |\n",
    "|           5 |                       101 |\n",
    "|           8 |                        81 |\n",
    "|          10 |                        72 |\n",
    "|          16 |                        51 |\n",
    "|          20 |                        43 |\n",
    "|          24 |                        36 |\n",
    "|          30 |                        27 |\n"
   ]
  },
  {
   "cell_type": "markdown",
   "metadata": {},
   "source": [
    "a) Find an analytical solution for the development of the concentration $C_A$ over time and name the parameters of your model."
   ]
  },
  {
   "cell_type": "markdown",
   "metadata": {},
   "source": [
    "b) Implement the analytical model in Excel and identify the parameters by minimizing the sum of squares by means of the <em>Solver</em> routine (see Chapter 3.7 in the Tutorial)."
   ]
  },
  {
   "cell_type": "markdown",
   "metadata": {},
   "source": [
    "c) Implement your model in Python using the mass balance equation, not the analytical solution. Import the data (<em>Ex07.Data.txt</em>) and identify the parameters in Python (with a curve fit)."
   ]
  },
  {
   "cell_type": "code",
   "execution_count": 2,
   "metadata": {},
   "outputs": [
    {
     "ename": "SyntaxError",
     "evalue": "invalid syntax (3340688766.py, line 5)",
     "output_type": "error",
     "traceback": [
      "\u001b[0;36m  Cell \u001b[0;32mIn[2], line 5\u001b[0;36m\u001b[0m\n\u001b[0;31m    STARTTIME =\u001b[0m\n\u001b[0m               ^\u001b[0m\n\u001b[0;31mSyntaxError\u001b[0m\u001b[0;31m:\u001b[0m invalid syntax\n"
     ]
    }
   ],
   "source": [
    "# Data Import\n",
    "...\n",
    "\n",
    "# Parameters: Time\n",
    "STARTTIME =\n",
    "STOPTIME =\n",
    "DT =\n",
    "\n",
    "# Time span\n",
    "time = np.arange(STARTTIME, STOPTIME, DT)\n",
    "\n",
    "# Parameters: Process\n",
    "\n",
    "\n",
    "# Parameters: Initial (see Chapter 3.5 in the Tutorial)\n",
    "def var0(param_var0):\n",
    "    \n",
    "    \n",
    "    return\n",
    "\n",
    "# Define ODE\n",
    "def model(var0,t,param):\n",
    "    \n",
    "    \n",
    "    return\n",
    "\n",
    "# Curve fit (see Chapter 3.5 in the Tutorial)\n",
    "avg , std =\n",
    "\n",
    "plt.figure('curve fit')\n",
    "plt.xlabel('Time [min]')\n",
    "plt.ylabel('C$_A$ [g m$^{-3}$]')\n",
    "\n",
    "# Calculate CA with adjusted k and CA\n",
    "   = avg\n",
    "CA = sh.sol_ode(...)"
   ]
  },
  {
   "cell_type": "markdown",
   "metadata": {},
   "source": [
    "d) Determine the absolute-relative sensitivity functions with Python (see Chapter 3.7 in the Tutorial). Do you think that the parameter values can be uniquely identified from the data available?"
   ]
  },
  {
   "cell_type": "code",
   "execution_count": null,
   "metadata": {},
   "outputs": [],
   "source": [
    "# Sensitivity functions (see Chapter 3.7 in the Tutorial)\n",
    "k_sens = \n",
    "CA_0sens = \n",
    "\n",
    "# Plot\n",
    "plt.legend(['k', 'C$_{A,0}$'])\n",
    "plt.ylabel('A-R sensitivity C$_A$ [g m$^{-3}$]')\n",
    "plt.xlabel('Time [min]')\n",
    "plt.grid()\n",
    "plt.show()"
   ]
  },
  {
   "cell_type": "markdown",
   "metadata": {},
   "source": [
    "e) Are there structural problems in this model? Would another reaction order provide a better fit to the data?"
   ]
  },
  {
   "cell_type": "code",
   "execution_count": null,
   "metadata": {},
   "outputs": [],
   "source": [
    "# Parameters: Process\n",
    "n =\n",
    "\n",
    "# Parameters: Initial\n",
    "def var0(param_var0):\n",
    "\n",
    "    \n",
    "    return initCA\n",
    "\n",
    "# Define ODE\n",
    "def model(var, t, param):\n",
    "\n",
    "    \n",
    "    return\n",
    "\n",
    "# Solve ODE\n",
    "avg, cov = \n",
    "\n",
    "k, n, CA_0 = avg\n",
    "\n",
    "plt.figure('curve fit')\n",
    "plt.xlabel('Time [min]')\n",
    "plt.ylabel('C$_A$ [g m$^{-3}$]')\n",
    "plt.show()"
   ]
  },
  {
   "cell_type": "markdown",
   "metadata": {},
   "source": [
    "### Additional questions to part I"
   ]
  },
  {
   "cell_type": "markdown",
   "metadata": {},
   "source": [
    "f) Derive the absolute-relative sensitivity functions (in an analytical and numerical form) for all parameters."
   ]
  },
  {
   "cell_type": "markdown",
   "metadata": {},
   "source": [
    "## Part II: Modeling a river (Optional)"
   ]
  },
  {
   "cell_type": "markdown",
   "metadata": {},
   "source": [
    "In a 10 km long straightened river, a step has been built every 500 m to stabilize the sediment. These steps prevent the back-mixing of water and material. The river is characterized as follows:\n",
    "| Variable   | Value | Unit    | Description         |\n",
    "|:----------:|------:|:-------:|---------------------|\n",
    "|     Q =    |     4 | m$^3$/s | constant flow rate  |\n",
    "|     h =    |   0.5 |    m    | average water depth |\n",
    "|     B =    |    10 |    m    | average river width |\n",
    "\n",
    "The following processes are of importance in the river (the algae grow as a biofilm on the sediment):\n",
    "| Process        | Dissolved oxygen $\\bm{S_{O2}}$ [g$\\bm{_{O2}}$/m$\\bm{^3}$] | Process rate $\\bm{\\rho}$ [g$\\bm{_{O2}}$/m$\\bm{^3}$/d]          |\n",
    "|----------------|-------------------------------------------:|-------------------------------------------------|\n",
    "| Photosynthesis |                                         +1 | $K_P \\cdot I/h$                                 |\n",
    "| Respiration    |                                         -1 | $K_R/h$                                         |\n",
    "| Re-aeration    |                                         +1 | $K_B \\cdot (S_{O2,sat}-S_{O2})\\cdot 1/h$        |\n",
    "\n",
    "With: \n",
    "| Variable       | Value                                         | Unit           | Description                                      |\n",
    "|----------------|----------------------------------------------:|:--------------:|:-------------------------------------------------|\n",
    "| $K_P =$        |                                           0.1 | g$_{O2}$/W/d   | oxygen release per watt-days of light energy     |\n",
    "| $I =$          |  $I_{max} \\cdot -cos(2 \\cdot \\pi \\cdot t)$ | W/m$^2$        | available light energy (> 0), t in [d]           |\n",
    "| $I_{max} =$    |                                          1200 | W/m$^2$        | maximum light intensity at midday                |\n",
    "| $K_R =$        |                                            40 | 1/m$^2$/d      | respiration rate of the algae                    |\n",
    "| $K_B =$        |                                            25 | m/d            | reaeration constant of the river including steps |\n",
    "| $S_{O2,sat} =$ |                                            10 | g$_{O2}$/m$^3$ | saturation concentration for oxygen              |\n"
   ]
  },
  {
   "cell_type": "markdown",
   "metadata": {},
   "source": [
    "g) Simulate the oxygen concentration in the diurnal variation (i) at the end of the flow distance and (ii) as a length profile in the river, at different ”points in time” with Python.\n",
    "\n",
    "Hints:\n",
    "- Model the individual stretches between two steps as CSTRs.\n",
    "- You may assume $S_{O2,in}$ = 5 g$_{O2}$/m$^{3}$.\n",
    "- The available light energy goes down to zero during the night, but can never be below zero. See Chapter 3.7 in the Tutorial for hints on how to model this limitation.\n",
    "- Hints for the visualization in Python can be found in Chapter 3.7 in the Tutorial."
   ]
  },
  {
   "cell_type": "code",
   "execution_count": null,
   "metadata": {},
   "outputs": [],
   "source": [
    "# Parameters: Time\n",
    "STARTTIME = \n",
    "STOPTIME =     \n",
    "DT = \n",
    "\n",
    "# Time span\n",
    "time = np.arange(STARTTIME,STOPTIME,DT)\n",
    "\n",
    "# Parameters: Process\n",
    "...\n",
    "\n",
    "n = int(Ltot/L) # Creating 'n' CSTRs to describe the total length of river.\n",
    "\n",
    "\n",
    "# Parameters: Initial condition\n",
    "\n",
    "\n",
    "# Define ODE\n",
    "def model(var,t,param):\n",
    "          \n",
    "          \n",
    "    return dSO2dt\n",
    "\n",
    "# Solve ODE\n",
    "SO2 =  sh.sol_ode(...)\n",
    "\n",
    "plt.figure('Effluent concentration')\n",
    "plt.grid()\n",
    "plt.plot(x,y)\n",
    "plt.legend(['legend'])\n",
    "plt.xlabel('xlabel')\n",
    "plt.ylabel('ylabel')\n",
    "plt.xlim(xmin=0.25)\n",
    "plt.show()\n",
    "\n",
    "plt.figure('Length profiles')\n",
    "plt.grid()\n",
    "plt.plot(1x, 1y, 2x, 2y)\n",
    "plt.legend(['1','2'])\n",
    "plt.xlabel('xlabel')\n",
    "plt.ylabel('ylabel')\n",
    "plt.show()"
   ]
  },
  {
   "cell_type": "markdown",
   "metadata": {},
   "source": [
    "h) Identify the model parameters and determine the absolute-relative sensitivity of the effluent oxygen concentration $S_{O2,eff}$ relative to these model parameters (exclude the geometric parameters L, B, h, Q) in Python."
   ]
  },
  {
   "cell_type": "code",
   "execution_count": null,
   "metadata": {},
   "outputs": [],
   "source": [
    "# Sensitivity \n",
    "KP_sens = sh.sensitivity()\n",
    "...\n",
    "\n",
    "# plot the legend\n",
    "plt.figure('sensitivity')\n",
    "plt.grid()\n",
    "plt.legend(['1', '2'])\n",
    "plt.xlabel('xlabel')\n",
    "plt.ylabel('ylabel')\n",
    "plt.show()"
   ]
  },
  {
   "cell_type": "markdown",
   "metadata": {},
   "source": [
    "i) Discuss which parameters of the model can be uniquely determined from a continuously measured concentration curve of the dissolved oxygen in the effluent of the river."
   ]
  },
  {
   "cell_type": "markdown",
   "metadata": {},
   "source": [
    "j) Discuss the influence of the upper boundary condition of $S_{O2}$ on the discharge concentration of oxygen (i.e., influence of $S_{O2,in}$). How does its absolute-relative sensitivity function look over (i) the simulation time and (ii) the length profile? Lastly, simulate the length profile of its sensitivity function for varying $S_{O2,in}$ values.\n",
    "\n",
    "Hint: For visualizing effects of different $S_{O2,in}$ in a single plot, see Chapter 3.7 in the Tutorial."
   ]
  },
  {
   "cell_type": "code",
   "execution_count": null,
   "metadata": {},
   "outputs": [],
   "source": [
    "# Sensitivity of SO2_in over length\n",
    "SO2in_sens = sh.sensitivity(...)\n",
    "\n",
    "# plot the legend\n",
    "plt.figure('sensitivity')\n",
    "plt.grid()\n",
    "plt.legend(['1'])\n",
    "plt.xlabel('xlabel')\n",
    "plt.ylabel('ylabel')\n",
    "plt.show()\n",
    "\n",
    "# Different SO2_in\n",
    "SO2_in = range(...)\n",
    "\n",
    "for i in SO2_in:\n",
    "    ... # see Chapter 3.7 of the Tutorial\n",
    "    \n",
    "plt.figure('concentration')\n",
    "plt.grid()\n",
    "plt.legend()\n",
    "plt.xlabel('xlabel')\n",
    "plt.ylabel('ylabel')\n",
    "plt.show()\n",
    "\n",
    "plt.figure('sensitivity')\n",
    "plt.grid()\n",
    "plt.legend()\n",
    "plt.xlabel('xlabel')\n",
    "plt.ylabel('ylabel')\n",
    "plt.show()"
   ]
  }
 ],
 "metadata": {
  "kernelspec": {
   "display_name": "Python 3 (ipykernel)",
   "language": "python",
   "name": "python3"
  },
  "language_info": {
   "codemirror_mode": {
    "name": "ipython",
    "version": 3
   },
   "file_extension": ".py",
   "mimetype": "text/x-python",
   "name": "python",
   "nbconvert_exporter": "python",
   "pygments_lexer": "ipython3",
   "version": "3.11.9"
  }
 },
 "nbformat": 4,
 "nbformat_minor": 4
}
