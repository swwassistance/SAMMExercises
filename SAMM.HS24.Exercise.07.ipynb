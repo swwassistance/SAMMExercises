{
  "metadata": {
    "kernelspec": {
      "name": "python",
      "display_name": "Python (Pyodide)",
      "language": "python"
    },
    "language_info": {
      "codemirror_mode": {
        "name": "python",
        "version": 3
      },
      "file_extension": ".py",
      "mimetype": "text/x-python",
      "name": "python",
      "nbconvert_exporter": "python",
      "pygments_lexer": "ipython3",
      "version": "3.8"
    }
  },
  "nbformat_minor": 4,
  "nbformat": 4,
  "cells": [
    {
      "cell_type": "markdown",
      "source": "# Exercise 7: Sensitivity and Parameter Identification",
      "metadata": {}
    },
    {
      "cell_type": "markdown",
      "source": "Libraries",
      "metadata": {}
    },
    {
      "cell_type": "code",
      "source": "import matplotlib.pyplot as plt\nimport numpy as np\nimport pandas as pd\nimport sammhelper as sh\nimport scipy as sp",
      "metadata": {
        "trusted": true
      },
      "outputs": [
        {
          "name": "stderr",
          "text": "<ipython-input-11-87a4b251d488>:3: DeprecationWarning: \nPyarrow will become a required dependency of pandas in the next major release of pandas (pandas 3.0),\n(to allow more performant data types, such as the Arrow string type, and better interoperability with other libraries)\nbut was not found to be installed on your system.\nIf this would cause problems for you,\nplease provide us feedback at https://github.com/pandas-dev/pandas/issues/54466\n        \n  import pandas as pd\n",
          "output_type": "stream"
        },
        {
          "ename": "<class 'ModuleNotFoundError'>",
          "evalue": "No module named 'sammhelper'",
          "traceback": [
            "\u001b[0;31m---------------------------------------------------------------------------\u001b[0m",
            "\u001b[0;31mModuleNotFoundError\u001b[0m                       Traceback (most recent call last)",
            "Cell \u001b[0;32mIn[11], line 4\u001b[0m\n\u001b[1;32m      2\u001b[0m \u001b[38;5;28;01mimport\u001b[39;00m \u001b[38;5;21;01mnumpy\u001b[39;00m \u001b[38;5;28;01mas\u001b[39;00m \u001b[38;5;21;01mnp\u001b[39;00m\n\u001b[1;32m      3\u001b[0m \u001b[38;5;28;01mimport\u001b[39;00m \u001b[38;5;21;01mpandas\u001b[39;00m \u001b[38;5;28;01mas\u001b[39;00m \u001b[38;5;21;01mpd\u001b[39;00m\n\u001b[0;32m----> 4\u001b[0m \u001b[38;5;28;01mimport\u001b[39;00m \u001b[38;5;21;01msammhelper\u001b[39;00m \u001b[38;5;28;01mas\u001b[39;00m \u001b[38;5;21;01msh\u001b[39;00m\n\u001b[1;32m      5\u001b[0m \u001b[38;5;28;01mimport\u001b[39;00m \u001b[38;5;21;01mscipy\u001b[39;00m \u001b[38;5;28;01mas\u001b[39;00m \u001b[38;5;21;01msp\u001b[39;00m\n",
            "\u001b[0;31mModuleNotFoundError\u001b[0m: No module named 'sammhelper'"
          ],
          "output_type": "error"
        }
      ],
      "execution_count": 11
    },
    {
      "cell_type": "markdown",
      "source": "## Part I: Experiment in a batch reactor",
      "metadata": {}
    },
    {
      "cell_type": "markdown",
      "source": "You perform an experiment in a batch reactor. Compound A is degraded in a first order reaction\nand you measure the concentrations indicated in Table 1 below.\n\n<center><strong>Table 1:</strong> Measured concentration of compound A in the batch reactor (also provided in the file <em>Ex07.Data.txt</em>).</center>\n\n| Time [min]  | $C_A$ [g/$m^3$] |\n|:-----------:|:---------------:|\n|           1 |             137 |\n|           5 |             101 |\n|           8 |              81 |\n|          10 |              72 |\n|          16 |              51 |\n|          20 |              43 |\n|          24 |              36 |\n|          30 |              27 |\n",
      "metadata": {}
    },
    {
      "cell_type": "markdown",
      "source": "a) Find an analytical solution for the development of the concentration $C_A$ over time and name the parameters of your model.",
      "metadata": {}
    },
    {
      "cell_type": "markdown",
      "source": "b) Implement the analytical model in Excel and identify the parameters by minimizing the sum of squares by means of the Solver routine (see Chapter 3.7 in the Tutorial).",
      "metadata": {}
    },
    {
      "cell_type": "markdown",
      "source": "c) Implement your model in Python using the mass balance equation, not the analytical solution. Import the data (<em>Ex07.Data.txt</em>) and identify the parameters in Python (with a curve fit).",
      "metadata": {}
    },
    {
      "cell_type": "code",
      "source": "# Data Import\n...\n\n# Parameters: Time\nSTARTTIME =\nSTOPTIME =\nDT =\n\n# Time span\ntime = np.arange(STARTTIME, STOPTIME, DT)\n\n# Parameters: Process\n\n\n# Parameters: Initial (see Chapter 3.5 in the Tutorial)\ndef var0(param_var0):\n    \n    \n    return\n\n# Define ODE\ndef model(var0,t,param):\n    \n    \n    return\n\n# Curve fit (see Chapter 3.5 in the Tutorial)\navg , std =\n\nplt.figure('curve fit')\nplt.xlabel('Time [min]')\nplt.ylabel('C$_A$ [g m$^{-3}$]')\n\n# Calculate CA with adjusted k and CA\n   = avg\nCA = sh.sol_ode(...)",
      "metadata": {
        "trusted": true
      },
      "outputs": [
        {
          "ename": "<class 'SyntaxError'>",
          "evalue": "invalid syntax (<ipython-input-12-088fafcfe404>, line 5)",
          "traceback": [
            "\u001b[0;36m  Cell \u001b[0;32mIn[12], line 5\u001b[0;36m\u001b[0m\n\u001b[0;31m    STARTTIME =\u001b[0m\n\u001b[0m               ^\u001b[0m\n\u001b[0;31mSyntaxError\u001b[0m\u001b[0;31m:\u001b[0m invalid syntax\n"
          ],
          "output_type": "error"
        }
      ],
      "execution_count": 12
    },
    {
      "cell_type": "markdown",
      "source": "d) Determine the absolute-relative sensitivity functions with Python (see Chapter 3.7 in the Tutorial). Do you think that the parameter values can be uniquely identified from the data available?",
      "metadata": {}
    },
    {
      "cell_type": "code",
      "source": "# Sensitivity functions (see Chapter 3.7 in the Tutorial)\nk_sens = \nCA_0sens = \n\n# Plot\nplt.legend(['k', 'C$_{A,0}$'])\nplt.ylabel('A-R sensitivity C$_A$ [g m$^{-3}$]')\nplt.xlabel('Time [min]')\nplt.grid()\nplt.show()",
      "metadata": {
        "trusted": true
      },
      "outputs": [
        {
          "ename": "<class 'SyntaxError'>",
          "evalue": "invalid syntax (<ipython-input-13-0f107f075141>, line 2)",
          "traceback": [
            "\u001b[0;36m  Cell \u001b[0;32mIn[13], line 2\u001b[0;36m\u001b[0m\n\u001b[0;31m    k_sens =\u001b[0m\n\u001b[0m             ^\u001b[0m\n\u001b[0;31mSyntaxError\u001b[0m\u001b[0;31m:\u001b[0m invalid syntax\n"
          ],
          "output_type": "error"
        }
      ],
      "execution_count": 13
    },
    {
      "cell_type": "markdown",
      "source": "e) Are there structural problems in this model? Would another reaction order provide a better fit to the data?",
      "metadata": {}
    },
    {
      "cell_type": "code",
      "source": "# Parameters: Process\nn =\n\n# Parameters: Initial\ndef var0(param_var0):\n\n    \n    return initCA\n\n# Define ODE\ndef model(var, t, param):\n\n    \n    return\n\n# Solve ODE\navg, cov = \n\nk, n, CA_0 = avg\n\nplt.figure('curve fit')\nplt.xlabel('Time [min]')\nplt.ylabel('C$_A$ [g m$^{-3}$]')\nplt.show()",
      "metadata": {
        "trusted": true
      },
      "outputs": [
        {
          "ename": "<class 'SyntaxError'>",
          "evalue": "invalid syntax (<ipython-input-14-4dade2922a53>, line 2)",
          "traceback": [
            "\u001b[0;36m  Cell \u001b[0;32mIn[14], line 2\u001b[0;36m\u001b[0m\n\u001b[0;31m    n =\u001b[0m\n\u001b[0m       ^\u001b[0m\n\u001b[0;31mSyntaxError\u001b[0m\u001b[0;31m:\u001b[0m invalid syntax\n"
          ],
          "output_type": "error"
        }
      ],
      "execution_count": 14
    },
    {
      "cell_type": "markdown",
      "source": "### Additional questions to part I",
      "metadata": {}
    },
    {
      "cell_type": "markdown",
      "source": "f) Derive the absolute-relative sensitivity functions (in an analytical and numerical form) for all parameters.",
      "metadata": {}
    },
    {
      "cell_type": "markdown",
      "source": "## Part II: Modeling a river",
      "metadata": {}
    },
    {
      "cell_type": "markdown",
      "source": "In a 10 km long straightened river, a step has been built every 500 m to stabilize the sediment. These steps prevent the back-mixing of water and material. The river is characterized as follows:\n| Variable   | Value | Unit    | Description         |\n|:----------:|------:|:-------:|---------------------|\n|     Q =    |     4 | m$^3$/s | constant flow rate  |\n|     h =    |   0.5 |    m    | average water depth |\n|     B =    |    10 |    m    | average river width |\n\nThe following processes are of importance in the river (the algae grow as a biofilm on the sediment):\n| Process        | Dissolved oxygen $S_{O2}$ [g$_{O2}$/m$^3$] | Process rate $\\rho$ [g$_{O2}$/m$^3$/d]          |\n|----------------|-------------------------------------------:|-------------------------------------------------|\n| Photosynthesis |                                         +1 | $K_P \\cdot I/h$                                 |\n| Respiration    |                                         -1 | $K_R/h$                                         |\n| Re-aeration    |                                         +1 | $K_B \\cdot (S_{O2,sat}-S_{O2})\\cdot 1~h$        |\n\nWith: \n| Variable       | Value                                         | Unit           | Description                                      |\n|----------------|----------------------------------------------:|:--------------:|:-------------------------------------------------|\n| $K_P =$        |                                           0.1 | g$_{O2}$/W/d   | oxygen release per watt-days of light energy     |\n| $I =$          |  $I_{max} \\cdot -cos(2 \\cdot \\pi \\cdot t)$ | W/m$^2$        | available light energy (> 0), t in [d]           |\n| $I_{max} =$    |                                          1200 | W/m$^2$        | maximum light intensity at midday                |\n| $K_R =$        |                                            40 | 1/m$^2$/d      | respiration rate of the algae                    |\n| $K_B =$        |                                            25 | m/d            | reaeration constant of the river including steps |\n| $S_{O2,sat} =$ |                                            10 | g$_{O2}$/m$^3$ | saturation concentration for oxygen              |\n",
      "metadata": {}
    },
    {
      "cell_type": "markdown",
      "source": "g) Simulate the oxygen concentration in the diurnal variation (i) at the end of the flow distance and (ii) as a length profile in the river, at different ”points in time” with Python.\n\nHints:\n- Model the individual stretches between two steps as CSTRs.\n- You may assume $S_{O2,in}$ = 5 g$_{O2}$ m$^{–3}$.\n- The available light energy goes down to zero during the night, but can never be below zero. See Chapter 3.7 in the Tutorial for hints on how to model this limitation.\n- Hints for the visualization in Python can be found in Chapter 3.7 in the Tutorial.",
      "metadata": {}
    },
    {
      "cell_type": "code",
      "source": "# Parameters: Time\nSTARTTIME = \nSTOPTIME =     \nDT = \n\n# Time span\ntime = np.arange(STARTTIME,STOPTIME,DT)\n\n# Parameters: Process\n...\n\nn = int(Ltot/L) # Creating 'n' CSTRs to describe the total length of river.\n\n\n# Parameters: Initial condition\n\n\n# Define ODE\ndef model(var,t,param):\n          \n          \n    return dSO2dt\n\n# Solve ODE\nSO2 =  sh.sol_ode(...)\n\nplt.figure('Effluent concentration')\nplt.grid()\nplt.plot(x,y)\nplt.legend(['legend'])\nplt.xlabel('xlabel')\nplt.ylabel('ylabel')\nplt.xlim(xmin=0.25)\nplt.show()\n\nplt.figure('Length profiles')\nplt.grid()\nplt.plot(1x, 1y, 2x, 2y)\nplt.legend(['1','2'])\nplt.xlabel('xlabel')\nplt.ylabel('ylabel')\nplt.show()",
      "metadata": {
        "trusted": true
      },
      "outputs": [
        {
          "ename": "<class 'SyntaxError'>",
          "evalue": "invalid decimal literal (<ipython-input-15-de7419e8d67a>, line 38)",
          "traceback": [
            "\u001b[0;36m  Cell \u001b[0;32mIn[15], line 38\u001b[0;36m\u001b[0m\n\u001b[0;31m    plt.plot(1x, 1y, 2x, 2y)\u001b[0m\n\u001b[0m             ^\u001b[0m\n\u001b[0;31mSyntaxError\u001b[0m\u001b[0;31m:\u001b[0m invalid decimal literal\n"
          ],
          "output_type": "error"
        }
      ],
      "execution_count": 15
    },
    {
      "cell_type": "markdown",
      "source": "h) Identify the model parameters and determine the absolute-relative sensitivity of the effluent oxygen concentration $S_{O2,eff}$ relative to these model parameters (exclude the geometric parameters L, B, h, Q) in Python.",
      "metadata": {}
    },
    {
      "cell_type": "code",
      "source": "# Sensitivity \nKP_sens = sh.sensitivity()\n...\n\n# plot the legend\nplt.figure('sensitivity')\nplt.grid()\nplt.legend(['1', '2'])\nplt.xlabel('xlabel')\nplt.ylabel('ylabel')\nplt.show()",
      "metadata": {
        "trusted": true
      },
      "outputs": [
        {
          "ename": "<class 'NameError'>",
          "evalue": "name 'sh' is not defined",
          "traceback": [
            "\u001b[0;31m---------------------------------------------------------------------------\u001b[0m",
            "\u001b[0;31mNameError\u001b[0m                                 Traceback (most recent call last)",
            "Cell \u001b[0;32mIn[16], line 2\u001b[0m\n\u001b[1;32m      1\u001b[0m \u001b[38;5;66;03m# Sensitivity \u001b[39;00m\n\u001b[0;32m----> 2\u001b[0m KP_sens \u001b[38;5;241m=\u001b[39m \u001b[43msh\u001b[49m\u001b[38;5;241m.\u001b[39msensitivity()\n\u001b[1;32m      3\u001b[0m \u001b[38;5;241m.\u001b[39m\u001b[38;5;241m.\u001b[39m\u001b[38;5;241m.\u001b[39m\n\u001b[1;32m      5\u001b[0m \u001b[38;5;66;03m# plot the legend\u001b[39;00m\n",
            "\u001b[0;31mNameError\u001b[0m: name 'sh' is not defined"
          ],
          "output_type": "error"
        }
      ],
      "execution_count": 16
    },
    {
      "cell_type": "markdown",
      "source": "i) Discuss which parameters of the model can be uniquely determined from a continuously measured concentration curve of the dissolved oxygen in the effluent of the river.",
      "metadata": {}
    },
    {
      "cell_type": "markdown",
      "source": "j) Discuss the influence of the upper boundary condition of $S_{O2}$ on the discharge concentration of oxygen (i.e., influence of $S_{O2,in}$). How does its absolute-relative sensitivity function look over (i) the simulation time and (ii) the length profile? Lastly, simulate the length profile of its sensitivity function for varying SO2,in values.\n\nHint: For visualizing effects of different $S_{O2,in}$ in a single plot, see Chapter 3.7 in the Tutorial.",
      "metadata": {}
    },
    {
      "cell_type": "code",
      "source": "# Sensitivity of SO2_in over length\nSO2in_sens = sh.sensitivity(...)\n\n# plot the legend\nplt.figure('sensitivity')\nplt.grid()\nplt.legend(['1'])\nplt.xlabel('xlabel')\nplt.ylabel('ylabel')\nplt.show()\n\n# Different SO2_in\nSO2_in = range(...)\n\nfor i in SO2_in:\n    ... # see Chapter 3.7 of the Tutorial\n    \nplt.figure('concentration')\nplt.grid()\nplt.legend()\nplt.xlabel('xlabel')\nplt.ylabel('ylabel')\nplt.show()\n\nplt.figure('sensitivity')\nplt.grid()\nplt.legend()\nplt.xlabel('xlabel')\nplt.ylabel('ylabel')\nplt.show()",
      "metadata": {
        "trusted": true
      },
      "outputs": [
        {
          "ename": "<class 'NameError'>",
          "evalue": "name 'sh' is not defined",
          "traceback": [
            "\u001b[0;31m---------------------------------------------------------------------------\u001b[0m",
            "\u001b[0;31mNameError\u001b[0m                                 Traceback (most recent call last)",
            "Cell \u001b[0;32mIn[17], line 2\u001b[0m\n\u001b[1;32m      1\u001b[0m \u001b[38;5;66;03m# Sensitivity of SO2_in over length\u001b[39;00m\n\u001b[0;32m----> 2\u001b[0m SO2in_sens \u001b[38;5;241m=\u001b[39m \u001b[43msh\u001b[49m\u001b[38;5;241m.\u001b[39msensitivity(\u001b[38;5;241m.\u001b[39m\u001b[38;5;241m.\u001b[39m\u001b[38;5;241m.\u001b[39m)\n\u001b[1;32m      4\u001b[0m \u001b[38;5;66;03m# plot the legend\u001b[39;00m\n\u001b[1;32m      5\u001b[0m plt\u001b[38;5;241m.\u001b[39mfigure(\u001b[38;5;124m'\u001b[39m\u001b[38;5;124msensitivity\u001b[39m\u001b[38;5;124m'\u001b[39m)\n",
            "\u001b[0;31mNameError\u001b[0m: name 'sh' is not defined"
          ],
          "output_type": "error"
        }
      ],
      "execution_count": 17
    }
  ]
}