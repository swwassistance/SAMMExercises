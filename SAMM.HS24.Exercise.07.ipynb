{
  "metadata": {
    "kernelspec": {
      "name": "python",
      "display_name": "Python (Pyodide)",
      "language": "python"
    },
    "language_info": {
      "codemirror_mode": {
        "name": "python",
        "version": 3
      },
      "file_extension": ".py",
      "mimetype": "text/x-python",
      "name": "python",
      "nbconvert_exporter": "python",
      "pygments_lexer": "ipython3",
      "version": "3.8"
    }
  },
  "nbformat_minor": 4,
  "nbformat": 4,
  "cells": [
    {
      "cell_type": "markdown",
      "source": "# Exercise 7: Sensitivity and Parameter Identification",
      "metadata": {}
    },
    {
      "cell_type": "markdown",
      "source": "Libraries",
      "metadata": {}
    },
    {
      "cell_type": "code",
      "source": "%pip install -q matplotlib numpy odeintw pandas requests sammhelper scipy tqdm\nimport matplotlib.pyplot as plt\nimport numpy as np\nimport pandas as pd\nimport sammhelper as sh\nimport scipy as sp",
      "metadata": {
        "trusted": true
      },
      "outputs": [],
      "execution_count": null
    },
    {
      "cell_type": "markdown",
      "source": "## Part I: Experiment in a batch reactor",
      "metadata": {}
    },
    {
      "cell_type": "markdown",
      "source": "You perform an experiment in a batch reactor. Compound A is degraded in a first order reaction\nand you measure the concentrations indicated in Table 1 below.\n\n<center><strong>Table 1:</strong> Measured concentration of compound A in the batch reactor (also provided in the file <em>Ex07.Data.txt</em>).</center>\n\n| Time [min]  | CA [g/m3] |\n|:-----------:|:---------:|\n|           1 |       137 |\n|           5 |       101 |\n|           8 |        81 |\n|          10 |        72 |\n|          16 |        51 |\n|          20 |        43 |\n|          24 |        36 |\n|          30 |        27 |",
      "metadata": {}
    },
    {
      "cell_type": "markdown",
      "source": "a) Find an analytical solution for the development of the concentration CA over time and name the parameters of your model.",
      "metadata": {}
    },
    {
      "cell_type": "markdown",
      "source": "b) Implement the analytical model in Excel and identify the parameters by minimizing the sum of squares by means of the <em>Solver</em> routine (see Chapter 3.7 in the Tutorial).",
      "metadata": {}
    },
    {
      "cell_type": "markdown",
      "source": "c) Implement your model in Python using the mass balance equation, not the analytical solution. Import the data (<em>Ex07.Data.txt</em>) and identify the parameters in Python (with a curve fit).",
      "metadata": {}
    },
    {
      "cell_type": "code",
      "source": "# Data Import\n...\n\n# Parameters: Time\nSTARTTIME =\nSTOPTIME =\nDT =\n\n# Time span\ntime = np.arange(STARTTIME, STOPTIME, DT)\n\n# Parameters: Process\n\n\n# Parameters: Initial (see Chapter 3.5 in the Tutorial)\ndef var0(param_var0):\n    \n    \n    return\n\n# Define ODE\ndef model(var0,t,param):\n    \n    \n    return\n\n# Curve fit (see Chapter 3.5 in the Tutorial)\navg , std =\n\nplt.figure('curve fit')\nplt.xlabel('Time [min]')\nplt.ylabel('C$_A$ [g m$^{-3}$]')\n\n# Calculate CA with adjusted k and CA\n   = avg\nCA = sh.sol_ode(...)",
      "metadata": {
        "trusted": true
      },
      "outputs": [],
      "execution_count": null
    },
    {
      "cell_type": "markdown",
      "source": "d) Determine the absolute-relative sensitivity functions with Python (see Chapter 3.7 in the Tutorial). Do you think that the parameter values can be uniquely identified from the data available?",
      "metadata": {}
    },
    {
      "cell_type": "code",
      "source": "# Sensitivity functions (see Chapter 3.7 in the Tutorial)\nk_sens = \nCA_0sens = \n\n# Plot\nplt.legend(['k', 'C$_{A,0}$'])\nplt.ylabel('A-R sensitivity C$_A$ [g m$^{-3}$]')\nplt.xlabel('Time [min]')\nplt.grid()\nplt.show()",
      "metadata": {
        "trusted": true
      },
      "outputs": [],
      "execution_count": null
    },
    {
      "cell_type": "markdown",
      "source": "e) Are there structural problems in this model? Would another reaction order provide a better fit to the data?",
      "metadata": {}
    },
    {
      "cell_type": "code",
      "source": "# Parameters: Process\nn =\n\n# Parameters: Initial\ndef var0(param_var0):\n\n    \n    return initCA\n\n# Define ODE\ndef model(var, t, param):\n\n    \n    return\n\n# Solve ODE\navg, cov = \n\nk, n, CA_0 = avg\n\nplt.figure('curve fit')\nplt.xlabel('Time [min]')\nplt.ylabel('C$_A$ [g m$^{-3}$]')\nplt.show()",
      "metadata": {
        "trusted": true
      },
      "outputs": [],
      "execution_count": null
    },
    {
      "cell_type": "markdown",
      "source": "### Additional questions to part I",
      "metadata": {}
    },
    {
      "cell_type": "markdown",
      "source": "f) Derive the absolute-relative sensitivity functions (in an analytical and numerical form) for all parameters.",
      "metadata": {}
    },
    {
      "cell_type": "markdown",
      "source": "## Part II: Modeling a river (Optional)",
      "metadata": {}
    },
    {
      "cell_type": "markdown",
      "source": "In a 10 km long straightened river, a step has been built every 500 m to stabilize the sediment. These steps prevent the back-mixing of water and material. The river is characterized as follows:\n| Variable     | Value | Unit    | Description         |\n|:------------:|------:|:-------:|---------------------|\n|     $Q =$    |     4 |   m3/s  | constant flow rate  |\n|     $h =$    |   0.5 |   m     | average water depth |\n|     $B =$    |    10 |   m     | average river width |\n\nThe following processes are of importance in the river (the algae grow as a biofilm on the sediment):\n| Process        | Dissolved oxygen SO2 [gO2/m3] | Process rate $\\rho$ [gO2/m3/d]          |\n|----------------|------------------------------:|-----------------------------------------|\n| Photosynthesis |                            +1 | $K_P \\cdot I/h$                         |\n| Respiration    |                            -1 | $K_R/h$                                 |\n| Re-aeration    |                            +1 | $K_B \\cdot (S_{O2,sat}-S_{O2})\\cdot 1/h$|\n\nWith: \n| Variable       | Value                                         | Unit    | Description                                      |\n|----------------|----------------------------------------------:|:-------:|:-------------------------------------------------|\n| $K_P =$        |                                           0.1 | gO2/W/d | oxygen release per watt-days of light energy     |\n| $I =$          |     $I_{max} \\cdot -cos(2 \\cdot \\pi \\cdot t)$ | W/m2    | available light energy (> 0), t in [d]           |\n| $I_{max} =$    |                                          1200 | W/m2    | maximum light intensity at midday                |\n| $K_R =$        |                                            40 | 1/m2/d  | respiration rate of the algae                    |\n| $K_B =$        |                                            25 | m/d     | reaeration constant of the river including steps |\n| $S_{O2,sat} =$ |                                            10 | gO2/m3  | saturation concentration for oxygen              |",
      "metadata": {}
    },
    {
      "cell_type": "markdown",
      "source": "g) Simulate the oxygen concentration in the diurnal variation (i) at the end of the flow distance and (ii) as a length profile in the river, at different ”points in time” with Python.\n\nHints:\n- Model the individual stretches between two steps as CSTRs.\n- You may assume SO2,in = 5 gO2/m3.\n- The available light energy goes down to zero during the night, but can never be below zero. See Chapter 3.7 in the Tutorial for hints on how to model this limitation.\n- Hints for the visualization in Python can be found in Chapter 3.7 in the Tutorial.",
      "metadata": {}
    },
    {
      "cell_type": "code",
      "source": "# Parameters: Time\nSTARTTIME = \nSTOPTIME =     \nDT = \n\n# Time span\ntime = np.arange(STARTTIME,STOPTIME,DT)\n\n# Parameters: Process\n...\n\nn = int(Ltot/L) # Creating 'n' CSTRs to describe the total length of river.\n\n\n# Parameters: Initial condition\n\n\n# Define ODE\ndef model(var,t,param):\n          \n          \n    return dSO2dt\n\n# Solve ODE\nSO2 =  sh.sol_ode(...)\n\nplt.figure('Effluent concentration')\nplt.grid()\nplt.plot(x,y)\nplt.legend(['legend'])\nplt.xlabel('xlabel')\nplt.ylabel('ylabel')\nplt.xlim(xmin=0.25)\nplt.show()\n\nplt.figure('Length profiles')\nplt.grid()\nplt.plot(1x, 1y, 2x, 2y)\nplt.legend(['1','2'])\nplt.xlabel('xlabel')\nplt.ylabel('ylabel')\nplt.show()",
      "metadata": {
        "trusted": true
      },
      "outputs": [],
      "execution_count": null
    },
    {
      "cell_type": "markdown",
      "source": "h) Identify the model parameters and determine the absolute-relative sensitivity of the effluent oxygen concentration SO2,eff relative to these model parameters (exclude the geometric parameters L, B, h, Q) in Python.",
      "metadata": {}
    },
    {
      "cell_type": "code",
      "source": "# Sensitivity \nKP_sens = sh.sensitivity()\n...\n\n# plot the legend\nplt.figure('sensitivity')\nplt.grid()\nplt.legend(['1', '2'])\nplt.xlabel('xlabel')\nplt.ylabel('ylabel')\nplt.show()",
      "metadata": {
        "trusted": true
      },
      "outputs": [],
      "execution_count": null
    },
    {
      "cell_type": "markdown",
      "source": "i) Discuss which parameters of the model can be uniquely determined from a continuously measured concentration curve of the dissolved oxygen in the effluent of the river.",
      "metadata": {}
    },
    {
      "cell_type": "markdown",
      "source": "j) Discuss the influence of the upper boundary condition of SO2 on the discharge concentration of oxygen (i.e., influence of SO2,in). How does its absolute-relative sensitivity function look over (i) the simulation time and (ii) the length profile? Lastly, simulate the length profile of its sensitivity function for varying SO2,in values.\n\nHint: For visualizing effects of different SO2,in in a single plot, see Chapter 3.7 in the Tutorial.",
      "metadata": {}
    },
    {
      "cell_type": "code",
      "source": "# Sensitivity of SO2_in over length\nSO2in_sens = sh.sensitivity(...)\n\n# plot the legend\nplt.figure('sensitivity')\nplt.grid()\nplt.legend(['1'])\nplt.xlabel('xlabel')\nplt.ylabel('ylabel')\nplt.show()\n\n# Different SO2_in\nSO2_in = range(...)\n\nfor i in SO2_in:\n    ... # see Chapter 3.7 of the Tutorial\n    \nplt.figure('concentration')\nplt.grid()\nplt.legend()\nplt.xlabel('xlabel')\nplt.ylabel('ylabel')\nplt.show()\n\nplt.figure('sensitivity')\nplt.grid()\nplt.legend()\nplt.xlabel('xlabel')\nplt.ylabel('ylabel')\nplt.show()",
      "metadata": {
        "trusted": true
      },
      "outputs": [],
      "execution_count": null
    }
  ]
}