{
  "metadata": {
    "kernelspec": {
      "name": "python",
      "display_name": "Python (Pyodide)",
      "language": "python"
    },
    "language_info": {
      "codemirror_mode": {
        "name": "ipython",
        "version": 3
      },
      "file_extension": ".py",
      "mimetype": "text/x-python",
      "name": "python",
      "nbconvert_exporter": "python",
      "pygments_lexer": "ipython3",
      "version": "3.11.9"
    }
  },
  "nbformat_minor": 4,
  "nbformat": 4,
  "cells": [
    {
      "cell_type": "markdown",
      "source": "# Exercise 7: Sensitivity and Parameter Identification",
      "metadata": {}
    },
    {
      "cell_type": "markdown",
      "source": "Libraries",
      "metadata": {}
    },
    {
      "cell_type": "code",
      "source": "%pip install -q matplotlib numpy odeintw pandas requests sammhelper scipy tqdm\nimport matplotlib.pyplot as plt\nimport numpy as np\nimport pandas as pd\nimport sammhelper as sh\nimport scipy as sp",
      "metadata": {
        "trusted": true
      },
      "outputs": [],
      "execution_count": null
    },
    {
      "cell_type": "markdown",
      "source": "## Part I: Experiment in a batch reactor",
      "metadata": {}
    },
    {
      "cell_type": "markdown",
      "source": "You perform an experiment in a batch reactor. Compound A is degraded in a first order reaction\nand you measure the concentrations indicated in Table 1 below.\n\n<center><strong>Table 1:</strong> Measured concentration of compound A in the batch reactor (also provided in the file <em>Ex07.Data.txt</em>).</center>\n\n| Time [min]  | CA [g/m3] |\n|:-----------:|:---------:|\n|           1 |       137 |\n|           5 |       101 |\n|           8 |        81 |\n|          10 |        72 |\n|          16 |        51 |\n|          20 |        43 |\n|          24 |        36 |\n|          30 |        27 |",
      "metadata": {}
    },
    {
      "cell_type": "markdown",
      "source": "a) Find an analytical solution for the development of the concentration CA over time and name the parameters of your model.",
      "metadata": {}
    },
    {
      "cell_type": "markdown",
      "source": "b) Implement the analytical model in Excel and identify the parameters by minimizing the sum of squares by means of the <em>Solver</em> routine (see Chapter 3.7 in the Tutorial).",
      "metadata": {}
    },
    {
      "cell_type": "markdown",
      "source": "c) Implement your model in Python using the mass balance equation, not the analytical solution. Import the data (<em>Ex07.Data.txt</em>) and identify the parameters in Python (with a curve fit).",
      "metadata": {}
    },
    {
      "cell_type": "code",
      "source": "# Data Import\ndata = sh.data_import('Ex07.Data.txt', ['time', 'CA'])\n\n# Parameters: Time\nSTARTTIME = 0   # [min]\nSTOPTIME = 30   # [min]\nDT = 0.02       # [min]\n\n# Time span\ntime = np.arange(STARTTIME, STOPTIME, DT)\n\n# Parameters: Process\nk = 0.05      # [min-1]\nCA_0 = 300    # [g m-3]\n\n# Parameters: Initial\ndef var0(param_var0):\n    CA_0 = param_var0\n    \n    initCA = CA_0\n    return initCA\n\n# Define ODE\ndef model(var, t, param):\n    CA = var\n    k = param\n    \n    dCAdt = -k*CA\n    return dCAdt\n\n# Curve fit ODE\navg, cov = sh.curve_fit_ode(model, var0, time, xdata=data.time, ydata=data.CA, param=[k], param_var0 = [CA_0],  guess0=[k, CA_0])\n\nplt.figure('curve fit')\nplt.xlabel('Time [min]')\nplt.ylabel('C$_A$ [g m$^{-3}$]')\nplt.show()\n\n# Calculating concentration of substance A with adjusted k and CA\nk, CA_0 = avg\nC = sh.sol_ode(model,var0(CA_0),time,k)",
      "metadata": {
        "trusted": true
      },
      "outputs": [],
      "execution_count": null
    },
    {
      "cell_type": "markdown",
      "source": "d) Determine the absolute-relative sensitivity functions with Python (see Chapter 3.7 in the Tutorial). Do you think that the parameter values can be uniquely identified from the data available?",
      "metadata": {}
    },
    {
      "cell_type": "code",
      "source": "# Absolute-relative sensitivity\nk_sens = sh.sensitivity(k,'time', model, var0, time, [k], [CA_0], linestyle='solid')\nCA_0sens = sh.sensitivity(CA_0, 'time', model, var0, time, [k], [CA_0], linestyle='dashed')\n\n# Plot\nplt.figure('sensitivity')\nplt.legend(['k', 'C$_{A,0}$'])\nplt.ylabel('A-R sensitivity C$_A$ [g m$^{-3}$]')\nplt.xlabel('Time [min]')\nplt.grid()\nplt.show()\n\n# Calculate the standard deviations for each variable\nstd = np.sqrt(np.diag(cov))\n\n# Calculate the correlation matrix (see also Gujer, p. 286ff)\ncorr = cov / np.outer(std, std)\ncorr[cov == 0] = 0 # Handle any numerical errors that might have occurred in division",
      "metadata": {
        "trusted": true
      },
      "outputs": [],
      "execution_count": null
    },
    {
      "cell_type": "markdown",
      "source": "e) Are there structural problems in this model? Would another reaction order provide a better fit to the data?",
      "metadata": {}
    },
    {
      "cell_type": "code",
      "source": "# Parameters: Process\nn = 1       # reaction order\n\n# Parameters: Initial\ndef var0(param_var0):\n    CA_0 = param_var0\n    \n    initCA = CA_0\n    return initCA\n\n# Define ODE\ndef model(var, t, param):\n    CA = var\n    k, n = param\n    \n    dCAdt = -k*(CA**n)\n    return dCAdt\n\n# Solve ODE\navg, cov = sh.curve_fit_ode(model, var0, time, xdata=data.time, ydata=data.CA, param=[k, n], param_var0 = [CA_0],  guess0=[k, n, CA_0])\n\nk, n, CA_0 = avg\n\nplt.figure('curve fit')\nplt.xlabel('Time [min]')\nplt.ylabel('C$_A$ [g m$^{-3}$]')\nplt.show()",
      "metadata": {
        "trusted": true
      },
      "outputs": [],
      "execution_count": null
    },
    {
      "cell_type": "markdown",
      "source": "### Additional questions to part I",
      "metadata": {}
    },
    {
      "cell_type": "markdown",
      "source": "f) Derive the absolute-relative sensitivity functions (in an analytical and numerical form) for all parameters.",
      "metadata": {}
    },
    {
      "cell_type": "markdown",
      "source": "## Part II: Modeling a river (Optional)",
      "metadata": {}
    },
    {
      "cell_type": "markdown",
      "source": "In a 10 km long straightened river, a step has been built every 500 m to stabilize the sediment. These steps prevent the back-mixing of water and material. The river is characterized as follows:\n| Variable     | Value | Unit    | Description         |\n|:------------:|------:|:-------:|---------------------|\n|     $Q =$    |     4 |   m3/s  | constant flow rate  |\n|     $h =$    |   0.5 |   m     | average water depth |\n|     $B =$    |    10 |   m     | average river width |\n\nThe following processes are of importance in the river (the algae grow as a biofilm on the sediment):\n| Process        | Dissolved oxygen SO2 [gO2/m3] | Process rate $\\rho$ [gO2/m3/d]          |\n|----------------|------------------------------:|-----------------------------------------|\n| Photosynthesis |                            +1 | $K_P \\cdot I/h$                         |\n| Respiration    |                            -1 | $K_R/h$                                 |\n| Re-aeration    |                            +1 | $K_B \\cdot (S_{O2,sat}-S_{O2})\\cdot 1/h$|\n\nWith: \n| Variable       | Value                                         | Unit    | Description                                      |\n|----------------|----------------------------------------------:|:-------:|:-------------------------------------------------|\n| $K_P =$        |                                           0.1 | gO2/W/d | oxygen release per watt-days of light energy     |\n| $I =$          |     $I_{max} \\cdot -cos(2 \\cdot \\pi \\cdot t)$ | W/m2    | available light energy (> 0), t in [d]           |\n| $I_{max} =$    |                                          1200 | W/m2    | maximum light intensity at midday                |\n| $K_R =$        |                                            40 | 1/m2/d  | respiration rate of the algae                    |\n| $K_B =$        |                                            25 | m/d     | reaeration constant of the river including steps |\n| $S_{O2,sat} =$ |                                            10 | gO2/m3  | saturation concentration for oxygen              |\n",
      "metadata": {}
    },
    {
      "cell_type": "markdown",
      "source": "g) Simulate the oxygen concentration in the diurnal variation (i) at the end of the flow distance and (ii) as a length profile in the river, at different ”points in time” with Python.\n\nHints:\n- Model the individual stretches between two steps as CSTRs.\n- You may assume SO2,in = 5 gO2/m3.\n- The available light energy goes down to zero during the night, but can never be below zero. See Chapter 3.7 in the Tutorial for hints on how to model this limitation.\n- Hints for the visualization in Python can be found in Chapter 3.7 in the Tutorial.",
      "metadata": {}
    },
    {
      "cell_type": "code",
      "source": "# Parameters: Time\nSTARTTIME = 0    # [d]\nSTOPTIME = 4     # [d]\nDT = 0.01        # [d]\n\n# Time span\ntime = np.arange(STARTTIME, STOPTIME, DT)\n\n# Parameters: Process\nQ = 4*3600*24       # [m3 d-1]\nh = 0.5             # [m]\nB = 10              # [m]\nL = 500             # [m]\nLtot = 10000        # [m]\n\nKP = 0.1            # [gO2 W-1 d-1]\nImax = 1200         # [W m-2]\nKR = 40             # [gO2 m-2 d-1]\nKB = 25             # [m d-1]\nSO2_sat = 10        # [gO2 m-3]\nSO2_in = 5          # [gO2 m-3]\n\nn = int(Ltot/L)\nV = L*B*h\n\n# Parameters: Initial condition\ninitSO2 = np.zeros(n)\ninitSO2[0:n] = 5    # [gO2 m-3]\n\n# Define ODE\ndef model(var, t, param):\n\n    SO2 = var\n    SO2_in, SO2_sat, Q, V, KP, KR, KB, Imax, h, n = param\n\n    I = Imax * (-np.cos(2*np.pi*t))\n    I = sh.limit(I, 0)\n\n    dSO2dt = list(range(n))\n    dSO2dt[0] = Q/V*(SO2_in - SO2[0]) + 1 * KP*I/h - \\\n    1 * KR/h + 1 * KB*(SO2_sat - SO2[0])/h\n    dSO2dt[1:n] = Q/V*(SO2[0:n-1]-SO2[1:n]) + 1 * KP*I/h - \\\n    1 * KR/h + 1 * KB*(SO2_sat - SO2[1:n])/h\n    return dSO2dt\n\n# Solve ODE\nSO2 = sh.sol_ode(model, var0=initSO2, t=time, param=[\n                SO2_in, SO2_sat, Q, V, KP, KR, KB, Imax, h, n])\n\nplt.figure('Effluent concentration')\nplt.grid()\nplt.plot(time, SO2[-1])                                          # Plots concentrations at the end of the flow distance= last stretch of river= last CSTR\nplt.legend(['Effluent (n = 20)'])\nplt.xlabel('Time [d]')\nplt.ylabel('SO$_2$ [gO$_2$ m$^{-3}$]')\nplt.xlim(xmin=0, xmax = 3)\nplt.ylim(ymin=0)\nplt.show()\n\nplt.figure('Length profiles')\nplt.grid()\nplt.plot(range(1,n+1), [arr[15] for arr in SO2], range(1,n+1), [arr[32] for arr in SO2], range(1,n+1), [arr[49] for arr in SO2], range(1,n+1), [arr[65] for arr in SO2], range(1,n+1), [arr[99] for arr in SO2])         \nplt.legend(['t = 0.16 d', 't = 0.33 d', 't = 0.50 d', 't = 0.66 d', 't = 1.00 d'])\nplt.xlabel('Number of CSTRs (n)')\nplt.ylabel('SO$_2$ [gO$_2$ m$^{-3}$]')\nplt.xlim(xmin=1, xmax=n+1)\nplt.show()",
      "metadata": {
        "trusted": true
      },
      "outputs": [],
      "execution_count": null
    },
    {
      "cell_type": "markdown",
      "source": "h) Identify the model parameters and determine the absolute-relative sensitivity of the effluent oxygen concentration SO2,eff relative to these model parameters (exclude the geometric parameters L, B, h, Q) in Python.",
      "metadata": {}
    },
    {
      "cell_type": "code",
      "source": "# Sensitivity\nKP_sens = sh.sensitivity(KP, 'time', model, var0=initSO2, t=time, param=[SO2_in, SO2_sat, Q, V, KP, KR, KB, Imax, h, n], linestyle='solid')\nImax_sens = sh.sensitivity(Imax, 'time', model, var0=initSO2, t=time, param=[SO2_in, SO2_sat, Q, V, KP, KR, KB, Imax, h, n], linestyle='dashed')\nKR_sens = sh.sensitivity(KR, 'time', model, var0=initSO2, t=time, param=[SO2_in, SO2_sat, Q, V, KP, KR, KB, Imax, h, n], linestyle='dashdot')\nKB_sens = sh.sensitivity(KB, 'time', model, var0=initSO2, t=time, param=[SO2_in, SO2_sat, Q, V, KP, KR, KB, Imax, h, n], linestyle='dotted')\nSO2in_sens = sh.sensitivity(SO2_in, 'time', model, var0=initSO2, t=time, param=[SO2_in, SO2_sat, Q, V, KP, KR, KB, Imax, h, n], linestyle='solid')\nSO2sat_sens = sh.sensitivity(SO2_sat, 'time', model, var0=initSO2, t=time,  param=[SO2_in, SO2_sat, Q, V, KP, KR, KB, Imax, h, n], linestyle='dashed')\n\n# plot the legend\nplt.figure('sensitivity')\nplt.legend(['K$_P$', 'I$_{max}$', 'K$_R$', 'K$_B$',\n           'SO2$_{in}$', 'SO2$_{sat}$'], loc='upper right')\nplt.xlabel('Time [d]')\nplt.ylabel('A-R sensitivity [gO$_2$ m$^{-3}$]')\nplt.grid()\nplt.show()\n\n# Sensitivity matrix\nsens = np.array([\n    KP_sens, \n    Imax_sens, \n    KR_sens, \n    KB_sens,\n    SO2in_sens, \n    SO2sat_sens\n    ])\n\n# Correlation matrix\ncorr = np.corrcoef(sens)",
      "metadata": {
        "trusted": true
      },
      "outputs": [],
      "execution_count": null
    },
    {
      "cell_type": "markdown",
      "source": "i) Discuss which parameters of the model can be uniquely determined from a continuously measured concentration curve of the dissolved oxygen in the effluent of the river.",
      "metadata": {}
    },
    {
      "cell_type": "markdown",
      "source": "j) Discuss the influence of the upper boundary condition of SO2 on the discharge concentration of oxygen (i.e., influence of SO2,in). How does its absolute-relative sensitivity function look over (i) the simulation time and (ii) the length profile? Lastly, simulate the length profile of its sensitivity function for varying SO2,in values.\n\nHint: For visualizing effects of different SO2,in in a single plot, see Chapter 3.7 in the Tutorial.",
      "metadata": {}
    },
    {
      "cell_type": "code",
      "source": "# Sensitivity of SO2_in over length\nSO2in_sens = sh.sensitivity(SO2_in, 'length', model, var0=initSO2, t=time, param=[\n                            SO2_in, SO2_sat, Q, V, KP, KR, KB, Imax, h, n])\n\n# plot the legend\nplt.figure('sensitivity')\nplt.legend(['SO2$_{in}$'])\nplt.ylabel('A-R sensitivity S$_{O2}$ [gO$_2$ m$^{-3}$]')\nplt.xlabel('Number of CSTRs (n)')\nplt.grid()\nplt.show()\n\n# Different SO2_in\nSO2_in = list(range(0, 16, 3))\ncolors = ['tab:blue', 'tab:orange', 'tab:green', 'tab:red', 'tab:purple', 'tab:brown']\n\nplt.figure('concentration')\ncount = 0\nfor i in SO2_in:\n    SO2 = sh.sol_ode(model, var0=initSO2, t=time, param=[i, SO2_sat, Q, V, KP, KR, KB, Imax, h, n])\n    plt.plot(range(1, n+1), [arr[-1] for arr in SO2], label=f'S$_{{O2,in}}$ = {i} g O$_2$ m$^{{-3}}$', color=colors[count])\n    count += 1\nplt.legend(loc='upper right')\nplt.xlabel('Number of CSTRs (n)')\nplt.ylabel('S$_{O2}$ [g O$_2$ m$^{-3}$]')\nplt.xlim(xmin=1, xmax=n+1)\nplt.xticks(range(1, n+1, 2))\nplt.grid()\nplt.show()\n\nplt.figure('sensitivityBC')\ncount = 0\nfor i in SO2_in:\n    SO2in_sens = sh.sensitivity(i, 'length', model, var0=initSO2, t=time, param=[i, SO2_sat, Q, V, KP, KR, KB, Imax, h, n])\n    plt.plot(range(1, n+1), SO2in_sens, label=f'S$_{{O2,in}}$ = {i} g O$_2$ m$^{{-3}}$', color=colors[count])\n    count += 1\nplt.legend(loc='upper right')\nplt.xlabel('Number of CSTRs (n)')\nplt.ylabel('A-R sensitivity S$_{O2}$ [g O$_2$ m$^{-3}$]')\nplt.xlim(xmin=1, xmax=n+1)\nplt.xticks(range(1, n+1, 2))\nplt.grid()\nplt.show()",
      "metadata": {
        "trusted": true
      },
      "outputs": [],
      "execution_count": null
    }
  ]
}
